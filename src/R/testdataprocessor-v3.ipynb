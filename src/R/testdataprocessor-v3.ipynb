{
 "cells": [
  {
   "cell_type": "code",
   "execution_count": 1,
   "metadata": {
    "collapsed": false,
    "deletable": true,
    "editable": true
   },
   "outputs": [],
   "source": [
    "#install.packages(\"dplyr\", repos='http://cran.us.r-project.org')"
   ]
  },
  {
   "cell_type": "code",
   "execution_count": 39,
   "metadata": {
    "collapsed": false,
    "deletable": true,
    "editable": true,
    "scrolled": true
   },
   "outputs": [
    {
     "name": "stderr",
     "output_type": "stream",
     "text": [
      "\n",
      "Attaching package: 'dplyr'\n",
      "\n",
      "The following object is masked from 'package:GGally':\n",
      "\n",
      "    nasa\n",
      "\n",
      "The following object is masked from 'package:reshape':\n",
      "\n",
      "    rename\n",
      "\n",
      "The following objects are masked from 'package:plyr':\n",
      "\n",
      "    arrange, count, desc, failwith, id, mutate, rename, summarise,\n",
      "    summarize\n",
      "\n",
      "The following objects are masked from 'package:stats':\n",
      "\n",
      "    filter, lag\n",
      "\n",
      "The following objects are masked from 'package:base':\n",
      "\n",
      "    intersect, setdiff, setequal, union\n",
      "\n"
     ]
    }
   ],
   "source": [
    "options(jupyter.plot_mimetypes = 'image/png')\n",
    "\n",
    "library(\"devtools\")\n",
    "library(\"httr\")\n",
    "\n",
    "library(\"caret\")\n",
    "library(\"corrplot\")\n",
    "library(e1071)\n",
    "library(ggplot2)\n",
    "library(cowplot)\n",
    "library(plyr)\n",
    "library(gbm)\n",
    "library(reshape)\n",
    "library(\"R.utils\")\n",
    "library(iptools)\n",
    "library(bitops)\n",
    "library(ggmap)\n",
    "library(maps)\n",
    "library(cshapes)\n",
    "library(Imap)\n",
    "library(\"zoo\")\n",
    "library(\"GGally\")\n",
    "#library(\"ggbiplot\")\n",
    "#library(ggbiplot)\n",
    "library(mvoutlier)\n",
    "\n",
    "library(dplyr)\n",
    "#install.packages(\"iptools\", repos='http://cran.us.r-project.org')"
   ]
  },
  {
   "cell_type": "code",
   "execution_count": 3,
   "metadata": {
    "collapsed": false,
    "deletable": true,
    "editable": true
   },
   "outputs": [],
   "source": [
    "cumavg <- function( x, epsilon=0.75 ){\n",
    "    #epsilon is the threshold above which we consider a point an outlier. Typically 0.75\n",
    "    #we only consider outliers if the point is above the average (not below) since we are interested in high network traffic\n",
    "    lx <- length(x)\n",
    "    updatevals <- c( 2:lx )\n",
    "    nmean <-1\n",
    "    nmean[1] <- x[1]\n",
    "\n",
    "    for(k in updatevals){\n",
    "        nmean[k] <- (nmean[k-1] * (k-1) + x[k])/k\n",
    "    }\n",
    "\n",
    "    return(nmean)\n",
    "\n",
    "    invisible()\n",
    "\n",
    "}\n",
    "\n",
    "cumsigma <- function( x, epsilon=0.75 ){\n",
    "    #epsilon is the threshold above which we consider a point an outlier. Typically 0.75\n",
    "    #we only consider outliers if the point is above the average (not below) since we are interested in high network traffic\n",
    "    lx <- length(x)\n",
    "    updatevals <- c( 2:lx )\n",
    "    nvar <- nmean <-1\n",
    "    nvar[1]  <- 0.0\n",
    "    nmean[1] <- x[1]\n",
    "\n",
    "    for(k in updatevals){\n",
    "        nmean[k] <- (nmean[k-1] * (k-1) + x[k])/k\n",
    "        nvar[k] <- ((nvar[k-1] + nmean[k-1]*nmean[k-1])*(k-1) + x[k]*x[k] )/k - nmean[k]*nmean[k]   \n",
    "    }\n",
    "\n",
    "    return(sqrt(nvar))\n",
    "\n",
    "    invisible()\n",
    "\n",
    "}\n",
    "\n",
    "outliertest <- function( x, epsilon=0.75 ){\n",
    "    #epsilon is the threshold above which we consider a point an outlier. Typically 0.75\n",
    "    #we only consider outliers if the point is above the average (not below) since we are interested in high network traffic\n",
    "    lx <- length(x)\n",
    "    updatevals <- c( 2:lx )\n",
    "    nvar <- nmean <- outliers <-1\n",
    "    nvar[1]  <- 0.0\n",
    "    nmean[1] <- x[1]\n",
    "    outliers[1] <- 0 #by definition the first one is not an outlier\n",
    "\n",
    "    for(k in updatevals){\n",
    "\n",
    "        nmean[k] <- (nmean[k-1] * (k-1) + x[k])/k\n",
    "        nvar[k] <- ((nvar[k-1] + nmean[k-1]*nmean[k-1])*(k-1) + x[k]*x[k] )/k - nmean[k]*nmean[k]\n",
    "        if (k==2){\n",
    "            outliers[k] <- 0\n",
    "        } else {\n",
    "            if (nvar[k] > 0){\n",
    "             outliers[k] <- (abs(x[k] - nmean[k])/sqrt(nvar[k])) > epsilon && x[k] > nmean[k]\n",
    "            }else{\n",
    "             outliers[k] <- 0\n",
    "            }\n",
    "\n",
    "            if (outliers[k] > 0){\n",
    "                nvar[k] <- nvar[k-1]\n",
    "            }\n",
    "        }\n",
    "     \n",
    "    }\n",
    "\n",
    "    return(outliers)\n",
    "\n",
    "    invisible()\n",
    "\n",
    "}\n",
    "calcnfreq <- function( x, interval=365){\n",
    "    #count the number of events in the last year\n",
    "    nfreq <- 1\n",
    "    nfreq[1] <- 0\n",
    "    npts <- length(x)\n",
    "    for (k in c(2:npts)){\n",
    "        nfreq[k] <- (nfreq[k-1] + 1/as.numeric(difftime(x[k],x[k-1],units='secs')))/2\n",
    "    }\n",
    "    return(nfreq*108000)\n",
    "    invisible()\n",
    "}\n"
   ]
  },
  {
   "cell_type": "code",
   "execution_count": 4,
   "metadata": {
    "collapsed": false,
    "deletable": true,
    "editable": true
   },
   "outputs": [
    {
     "data": {
      "text/html": [
       "<ol class=list-inline>\n",
       "\t<li>1</li>\n",
       "\t<li>4.5</li>\n",
       "\t<li>221</li>\n",
       "\t<li>198.75</li>\n",
       "\t<li>1089.8</li>\n",
       "\t<li>909.5</li>\n",
       "\t<li>845.857142857143</li>\n",
       "</ol>\n"
      ],
      "text/latex": [
       "\\begin{enumerate*}\n",
       "\\item 1\n",
       "\\item 4.5\n",
       "\\item 221\n",
       "\\item 198.75\n",
       "\\item 1089.8\n",
       "\\item 909.5\n",
       "\\item 845.857142857143\n",
       "\\end{enumerate*}\n"
      ],
      "text/markdown": [
       "1. 1\n",
       "2. 4.5\n",
       "3. 221\n",
       "4. 198.75\n",
       "5. 1089.8\n",
       "6. 909.5\n",
       "7. 845.857142857143\n",
       "\n",
       "\n"
      ],
      "text/plain": [
       "[1]    1.0000    4.5000  221.0000  198.7500 1089.8000  909.5000  845.8571"
      ]
     },
     "metadata": {},
     "output_type": "display_data"
    },
    {
     "data": {
      "text/html": [
       "<ol class=list-inline>\n",
       "\t<li>0</li>\n",
       "\t<li>3.5</li>\n",
       "\t<li>306.190572465363</li>\n",
       "\t<li>267.95463701903</li>\n",
       "\t<li>1798.14353153468</li>\n",
       "\t<li>1690.2585354515</li>\n",
       "\t<li>1572.62114487442</li>\n",
       "</ol>\n"
      ],
      "text/latex": [
       "\\begin{enumerate*}\n",
       "\\item 0\n",
       "\\item 3.5\n",
       "\\item 306.190572465363\n",
       "\\item 267.95463701903\n",
       "\\item 1798.14353153468\n",
       "\\item 1690.2585354515\n",
       "\\item 1572.62114487442\n",
       "\\end{enumerate*}\n"
      ],
      "text/markdown": [
       "1. 0\n",
       "2. 3.5\n",
       "3. 306.190572465363\n",
       "4. 267.95463701903\n",
       "5. 1798.14353153468\n",
       "6. 1690.2585354515\n",
       "7. 1572.62114487442\n",
       "\n",
       "\n"
      ],
      "text/plain": [
       "[1]    0.0000    3.5000  306.1906  267.9546 1798.1435 1690.2585 1572.6211"
      ]
     },
     "metadata": {},
     "output_type": "display_data"
    },
    {
     "data": {
      "text/html": [
       "<ol class=list-inline>\n",
       "\t<li>0</li>\n",
       "\t<li>0</li>\n",
       "\t<li>1</li>\n",
       "\t<li>0</li>\n",
       "\t<li>1</li>\n",
       "\t<li>0</li>\n",
       "\t<li>0</li>\n",
       "</ol>\n"
      ],
      "text/latex": [
       "\\begin{enumerate*}\n",
       "\\item 0\n",
       "\\item 0\n",
       "\\item 1\n",
       "\\item 0\n",
       "\\item 1\n",
       "\\item 0\n",
       "\\item 0\n",
       "\\end{enumerate*}\n"
      ],
      "text/markdown": [
       "1. 0\n",
       "2. 0\n",
       "3. 1\n",
       "4. 0\n",
       "5. 1\n",
       "6. 0\n",
       "7. 0\n",
       "\n",
       "\n"
      ],
      "text/plain": [
       "[1] 0 0 1 0 1 0 0"
      ]
     },
     "metadata": {},
     "output_type": "display_data"
    }
   ],
   "source": [
    "#Testing these against manual calculations\n",
    "cumavg(c(1,8,654,132,4654,8,464))\n",
    "cumsigma(c(1,8,654,132,4654,8,464))\n",
    "outliertest(c(1,8,654,132,4654,8,464))"
   ]
  },
  {
   "cell_type": "code",
   "execution_count": 6,
   "metadata": {
    "collapsed": false,
    "deletable": true,
    "editable": true
   },
   "outputs": [
    {
     "name": "stdout",
     "output_type": "stream",
     "text": [
      "'data.frame':\t1000 obs. of  12 variables:\n",
      " $ datetime  : chr  \"2015-01-08T16:46:15+00:00\" \"2015-01-14T15:37:47+00:00\" \"2015-01-30T22:20:35+00:00\" \"2015-02-01T01:48:01+00:00\" ...\n",
      " $ serverip  : chr  \"serverip\" \"serverip\" \"serverip\" \"serverip\" ...\n",
      " $ clientip  : chr  \"OVTSW\" \"GKHTB\" \"UUNXV\" \"ZLDSO\" ...\n",
      " $ clientport: int  23867 88927 69359 87973 80445 21236 50135 63079 11727 58854 ...\n",
      " $ clientlag : num  -21.87 38.51 79.45 -53.63 3.14 ...\n",
      " $ clientlon : num  175.13 80.11 -8.02 55.96 -146.82 ...\n",
      " $ sumrtt    : int  414 43 596 763 984 990 540 674 330 723 ...\n",
      " $ countrtt  : int  32065 28382 81681 94393 36793 61314 44812 97033 92090 72752 ...\n",
      " $ avgrtt    : num  77.5 660 137 123.7 37.4 ...\n",
      " $ clientsub : chr  \"A\" \"A\" \"A\" \"A\" ...\n",
      " $ tempcount : num  1 1 1 1 1 1 1 1 1 1 ...\n",
      " $ dataday   : chr  \"20150108\" \"20150114\" \"20150130\" \"20150201\" ...\n"
     ]
    }
   ],
   "source": [
    "df <- read.csv('tempdata.log',stringsAsFactors=FALSE, header=FALSE, \n",
    "               col.names=c(\"datetime\",\"serverip\",\"clientip\",\"clientport\",\"clientlag\",\"clientlon\",\"sumrtt\",\"countrtt\",\n",
    "                           \"avgrtt\",\"clientsub\"))\n",
    "df<-df[with(df, order(clientsub,datetime)), ]\n",
    "df$tempcount<-1\n",
    "df$dataday <- as.POSIXct(strptime(df$datetime, \"%Y-%m-%dT%H:%M:%S+00:00\"))\n",
    "df$dataday<-format(df$dataday, \"%Y%m%d\")\n",
    "str(df)"
   ]
  },
  {
   "cell_type": "code",
   "execution_count": 8,
   "metadata": {
    "collapsed": false,
    "deletable": true,
    "editable": true,
    "scrolled": true
   },
   "outputs": [
    {
     "data": {
      "text/html": [
       "<table>\n",
       "<thead><tr><th></th><th scope=col>datetime</th><th scope=col>serverip</th><th scope=col>clientip</th><th scope=col>clientport</th><th scope=col>clientlag</th><th scope=col>clientlon</th><th scope=col>sumrtt</th><th scope=col>countrtt</th><th scope=col>avgrtt</th><th scope=col>clientsub</th><th scope=col>tempcount</th><th scope=col>dataday</th><th scope=col>ninsub</th><th scope=col>avginsub</th><th scope=col>sigmainsub</th><th scope=col>outlier</th></tr></thead>\n",
       "<tbody>\n",
       "\t<tr><th scope=row>1</th><td>2015-01-08T16:46:15+00:00</td><td>serverip                 </td><td>OVTSW                    </td><td>23867                    </td><td>-21.869499               </td><td> 175.126212              </td><td>414                      </td><td>32065                    </td><td>  77.451691              </td><td>A                        </td><td>1                        </td><td>20150108                 </td><td> 1                       </td><td> 77.45169                </td><td>   0.0000                </td><td>0                        </td></tr>\n",
       "\t<tr><th scope=row>2</th><td>2015-01-14T15:37:47+00:00</td><td>serverip                 </td><td>GKHTB                    </td><td>88927                    </td><td> 38.505041               </td><td>  80.113544              </td><td> 43                      </td><td>28382                    </td><td> 660.046512              </td><td>A                        </td><td>1                        </td><td>20150114                 </td><td> 2                       </td><td>368.74910                </td><td> 291.2974                </td><td>0                        </td></tr>\n",
       "\t<tr><th scope=row>3</th><td>2015-01-30T22:20:35+00:00</td><td>serverip                 </td><td>UUNXV                    </td><td>69359                    </td><td> 79.445450               </td><td>  -8.021539              </td><td>596                      </td><td>81681                    </td><td> 137.048658              </td><td>A                        </td><td>1                        </td><td>20150130                 </td><td> 3                       </td><td>291.51562                </td><td> 261.7240                </td><td>0                        </td></tr>\n",
       "\t<tr><th scope=row>4</th><td>2015-02-01T01:48:01+00:00</td><td>serverip                 </td><td>ZLDSO                    </td><td>87973                    </td><td>-53.627307               </td><td>  55.957162              </td><td>763                      </td><td>94393                    </td><td> 123.712975              </td><td>A                        </td><td>1                        </td><td>20150201                 </td><td> 4                       </td><td>249.56496                </td><td> 238.0214                </td><td>0                        </td></tr>\n",
       "\t<tr><th scope=row>5</th><td>2015-02-25T11:40:34+00:00</td><td>serverip                 </td><td>ANMFV                    </td><td>80445                    </td><td>  3.140436               </td><td>-146.821644              </td><td>984                      </td><td>36793                    </td><td>  37.391260              </td><td>A                        </td><td>1                        </td><td>20150225                 </td><td> 5                       </td><td>207.13022                </td><td> 229.1859                </td><td>0                        </td></tr>\n",
       "\t<tr><th scope=row>6</th><td>2015-03-02T06:07:03+00:00</td><td>serverip                 </td><td>RGIUD                    </td><td>21236                    </td><td>-11.084194               </td><td>-123.120849              </td><td>990                      </td><td>61314                    </td><td>  61.933333              </td><td>A                        </td><td>1                        </td><td>20150302                 </td><td> 6                       </td><td>182.93074                </td><td> 216.1016                </td><td>0                        </td></tr>\n",
       "\t<tr><th scope=row>7</th><td>2015-03-20T16:59:54+00:00</td><td>serverip                 </td><td>TYHPN                    </td><td>50135                    </td><td> 67.493198               </td><td> 146.921460              </td><td>540                      </td><td>44812                    </td><td>  82.985185              </td><td>A                        </td><td>1                        </td><td>20150320                 </td><td> 7                       </td><td>168.65280                </td><td> 203.1050                </td><td>0                        </td></tr>\n",
       "\t<tr><th scope=row>8</th><td>2015-04-17T11:07:40+00:00</td><td>serverip                 </td><td>KSGWP                    </td><td>63079                    </td><td> 28.727730               </td><td>  55.264260              </td><td>674                      </td><td>97033                    </td><td> 143.965875              </td><td>A                        </td><td>1                        </td><td>20150417                 </td><td> 8                       </td><td>165.56694                </td><td> 190.1627                </td><td>0                        </td></tr>\n",
       "\t<tr><th scope=row>9</th><td>2015-04-17T21:19:39+00:00</td><td>serverip                 </td><td>LMTWY                    </td><td>11727                    </td><td> 64.792303               </td><td>  74.741397              </td><td>330                      </td><td>92090                    </td><td> 279.060606              </td><td>A                        </td><td>1                        </td><td>20150417                 </td><td> 9                       </td><td>178.17734                </td><td> 182.8005                </td><td>0                        </td></tr>\n",
       "\t<tr><th scope=row>10</th><td>2015-05-01T18:36:57+00:00</td><td>serverip                 </td><td>UCABS                    </td><td>58854                    </td><td>-29.166105               </td><td> -85.919651              </td><td>723                      </td><td>72752                    </td><td> 100.625173              </td><td>A                        </td><td>1                        </td><td>20150501                 </td><td>10                       </td><td>170.42213                </td><td> 174.9735                </td><td>0                        </td></tr>\n",
       "\t<tr><th scope=row>11</th><td>2015-05-27T17:42:37+00:00</td><td>serverip                 </td><td>FHMVM                    </td><td>78641                    </td><td> 66.615588               </td><td>  51.882967              </td><td>307                      </td><td>20120                    </td><td>  65.537459              </td><td>A                        </td><td>1                        </td><td>20150527                 </td><td>11                       </td><td>160.88716                </td><td> 169.5336                </td><td>0                        </td></tr>\n",
       "\t<tr><th scope=row>12</th><td>2015-06-13T05:24:35+00:00</td><td>serverip                 </td><td>SIYPM                    </td><td>13030                    </td><td>-49.293857               </td><td> -57.220186              </td><td>472                      </td><td> 1671                    </td><td>   3.540254              </td><td>A                        </td><td>1                        </td><td>20150613                 </td><td>12                       </td><td>147.77492                </td><td> 168.0409                </td><td>0                        </td></tr>\n",
       "\t<tr><th scope=row>13</th><td>2015-07-13T13:37:30+00:00</td><td>serverip                 </td><td>ACJRQ                    </td><td>21654                    </td><td>-80.902722               </td><td>   2.785586              </td><td>508                      </td><td>76285                    </td><td> 150.167323              </td><td>A                        </td><td>1                        </td><td>20150713                 </td><td>13                       </td><td>147.95895                </td><td> 161.4497                </td><td>0                        </td></tr>\n",
       "\t<tr><th scope=row>14</th><td>2015-08-20T10:03:18+00:00</td><td>serverip                 </td><td>SLSLO                    </td><td>96437                    </td><td>-80.231220               </td><td> -57.656059              </td><td>490                      </td><td>93238                    </td><td> 190.281633              </td><td>A                        </td><td>1                        </td><td>20150820                 </td><td>14                       </td><td>150.98200                </td><td> 155.9582                </td><td>0                        </td></tr>\n",
       "\t<tr><th scope=row>15</th><td>2015-08-25T00:49:28+00:00</td><td>serverip                 </td><td>UQFII                    </td><td>50582                    </td><td>-69.999717               </td><td> 113.363070              </td><td>555                      </td><td>95997                    </td><td> 172.967568              </td><td>A                        </td><td>1                        </td><td>20150825                 </td><td>15                       </td><td>152.44770                </td><td> 150.7697                </td><td>0                        </td></tr>\n",
       "\t<tr><th scope=row>16</th><td>2015-09-03T04:08:40+00:00</td><td>serverip                 </td><td>WRLRQ                    </td><td>35256                    </td><td> 67.389531               </td><td>  48.030850              </td><td>427                      </td><td>41155                    </td><td>  96.381733              </td><td>A                        </td><td>1                        </td><td>20150903                 </td><td>16                       </td><td>148.94358                </td><td> 146.6116                </td><td>0                        </td></tr>\n",
       "\t<tr><th scope=row>17</th><td>2015-09-08T04:30:58+00:00</td><td>serverip                 </td><td>ZJVAC                    </td><td>61741                    </td><td> 23.524456               </td><td>  86.851504              </td><td>372                      </td><td>78696                    </td><td> 211.548387              </td><td>A                        </td><td>1                        </td><td>20150908                 </td><td>17                       </td><td>152.62621                </td><td> 142.9949                </td><td>0                        </td></tr>\n",
       "\t<tr><th scope=row>18</th><td>2015-09-14T15:46:00+00:00</td><td>serverip                 </td><td>SRYZJ                    </td><td>19220                    </td><td> 39.144782               </td><td>  77.459994              </td><td>257                      </td><td> 7112                    </td><td>  27.673152              </td><td>A                        </td><td>1                        </td><td>20150914                 </td><td>18                       </td><td>145.68438                </td><td> 141.8830                </td><td>0                        </td></tr>\n",
       "\t<tr><th scope=row>19</th><td>2015-09-17T08:15:57+00:00</td><td>serverip                 </td><td>UJBUU                    </td><td>12289                    </td><td> -0.739334               </td><td>-149.459582              </td><td> 19                      </td><td>95673                    </td><td>5035.421053              </td><td>A                        </td><td>1                        </td><td>20150917                 </td><td>19                       </td><td>403.03894                </td><td>1100.5616                </td><td>1                        </td></tr>\n",
       "\t<tr><th scope=row>20</th><td>2015-09-24T10:10:26+00:00</td><td>serverip                 </td><td>RLVKE                    </td><td>87716                    </td><td> 86.393539               </td><td> 162.411649              </td><td>501                      </td><td>99975                    </td><td> 199.550898              </td><td>A                        </td><td>1                        </td><td>20150924                 </td><td>20                       </td><td>392.86454                </td><td>1073.6112                </td><td>0                        </td></tr>\n",
       "</tbody>\n",
       "</table>\n"
      ],
      "text/latex": [
       "\\begin{tabular}{r|llllllllllllllll}\n",
       "  & datetime & serverip & clientip & clientport & clientlag & clientlon & sumrtt & countrtt & avgrtt & clientsub & tempcount & dataday & ninsub & avginsub & sigmainsub & outlier\\\\\n",
       "\\hline\n",
       "\t1 & 2015-01-08T16:46:15+00:00 & serverip                  & OVTSW                     & 23867                     & -21.869499                &  175.126212               & 414                       & 32065                     &   77.451691               & A                         & 1                         & 20150108                  &  1                        &  77.45169                 &    0.0000                 & 0                        \\\\\n",
       "\t2 & 2015-01-14T15:37:47+00:00 & serverip                  & GKHTB                     & 88927                     &  38.505041                &   80.113544               &  43                       & 28382                     &  660.046512               & A                         & 1                         & 20150114                  &  2                        & 368.74910                 &  291.2974                 & 0                        \\\\\n",
       "\t3 & 2015-01-30T22:20:35+00:00 & serverip                  & UUNXV                     & 69359                     &  79.445450                &   -8.021539               & 596                       & 81681                     &  137.048658               & A                         & 1                         & 20150130                  &  3                        & 291.51562                 &  261.7240                 & 0                        \\\\\n",
       "\t4 & 2015-02-01T01:48:01+00:00 & serverip                  & ZLDSO                     & 87973                     & -53.627307                &   55.957162               & 763                       & 94393                     &  123.712975               & A                         & 1                         & 20150201                  &  4                        & 249.56496                 &  238.0214                 & 0                        \\\\\n",
       "\t5 & 2015-02-25T11:40:34+00:00 & serverip                  & ANMFV                     & 80445                     &   3.140436                & -146.821644               & 984                       & 36793                     &   37.391260               & A                         & 1                         & 20150225                  &  5                        & 207.13022                 &  229.1859                 & 0                        \\\\\n",
       "\t6 & 2015-03-02T06:07:03+00:00 & serverip                  & RGIUD                     & 21236                     & -11.084194                & -123.120849               & 990                       & 61314                     &   61.933333               & A                         & 1                         & 20150302                  &  6                        & 182.93074                 &  216.1016                 & 0                        \\\\\n",
       "\t7 & 2015-03-20T16:59:54+00:00 & serverip                  & TYHPN                     & 50135                     &  67.493198                &  146.921460               & 540                       & 44812                     &   82.985185               & A                         & 1                         & 20150320                  &  7                        & 168.65280                 &  203.1050                 & 0                        \\\\\n",
       "\t8 & 2015-04-17T11:07:40+00:00 & serverip                  & KSGWP                     & 63079                     &  28.727730                &   55.264260               & 674                       & 97033                     &  143.965875               & A                         & 1                         & 20150417                  &  8                        & 165.56694                 &  190.1627                 & 0                        \\\\\n",
       "\t9 & 2015-04-17T21:19:39+00:00 & serverip                  & LMTWY                     & 11727                     &  64.792303                &   74.741397               & 330                       & 92090                     &  279.060606               & A                         & 1                         & 20150417                  &  9                        & 178.17734                 &  182.8005                 & 0                        \\\\\n",
       "\t10 & 2015-05-01T18:36:57+00:00 & serverip                  & UCABS                     & 58854                     & -29.166105                &  -85.919651               & 723                       & 72752                     &  100.625173               & A                         & 1                         & 20150501                  & 10                        & 170.42213                 &  174.9735                 & 0                        \\\\\n",
       "\t11 & 2015-05-27T17:42:37+00:00 & serverip                  & FHMVM                     & 78641                     &  66.615588                &   51.882967               & 307                       & 20120                     &   65.537459               & A                         & 1                         & 20150527                  & 11                        & 160.88716                 &  169.5336                 & 0                        \\\\\n",
       "\t12 & 2015-06-13T05:24:35+00:00 & serverip                  & SIYPM                     & 13030                     & -49.293857                &  -57.220186               & 472                       &  1671                     &    3.540254               & A                         & 1                         & 20150613                  & 12                        & 147.77492                 &  168.0409                 & 0                        \\\\\n",
       "\t13 & 2015-07-13T13:37:30+00:00 & serverip                  & ACJRQ                     & 21654                     & -80.902722                &    2.785586               & 508                       & 76285                     &  150.167323               & A                         & 1                         & 20150713                  & 13                        & 147.95895                 &  161.4497                 & 0                        \\\\\n",
       "\t14 & 2015-08-20T10:03:18+00:00 & serverip                  & SLSLO                     & 96437                     & -80.231220                &  -57.656059               & 490                       & 93238                     &  190.281633               & A                         & 1                         & 20150820                  & 14                        & 150.98200                 &  155.9582                 & 0                        \\\\\n",
       "\t15 & 2015-08-25T00:49:28+00:00 & serverip                  & UQFII                     & 50582                     & -69.999717                &  113.363070               & 555                       & 95997                     &  172.967568               & A                         & 1                         & 20150825                  & 15                        & 152.44770                 &  150.7697                 & 0                        \\\\\n",
       "\t16 & 2015-09-03T04:08:40+00:00 & serverip                  & WRLRQ                     & 35256                     &  67.389531                &   48.030850               & 427                       & 41155                     &   96.381733               & A                         & 1                         & 20150903                  & 16                        & 148.94358                 &  146.6116                 & 0                        \\\\\n",
       "\t17 & 2015-09-08T04:30:58+00:00 & serverip                  & ZJVAC                     & 61741                     &  23.524456                &   86.851504               & 372                       & 78696                     &  211.548387               & A                         & 1                         & 20150908                  & 17                        & 152.62621                 &  142.9949                 & 0                        \\\\\n",
       "\t18 & 2015-09-14T15:46:00+00:00 & serverip                  & SRYZJ                     & 19220                     &  39.144782                &   77.459994               & 257                       &  7112                     &   27.673152               & A                         & 1                         & 20150914                  & 18                        & 145.68438                 &  141.8830                 & 0                        \\\\\n",
       "\t19 & 2015-09-17T08:15:57+00:00 & serverip                  & UJBUU                     & 12289                     &  -0.739334                & -149.459582               &  19                       & 95673                     & 5035.421053               & A                         & 1                         & 20150917                  & 19                        & 403.03894                 & 1100.5616                 & 1                        \\\\\n",
       "\t20 & 2015-09-24T10:10:26+00:00 & serverip                  & RLVKE                     & 87716                     &  86.393539                &  162.411649               & 501                       & 99975                     &  199.550898               & A                         & 1                         & 20150924                  & 20                        & 392.86454                 & 1073.6112                 & 0                        \\\\\n",
       "\\end{tabular}\n"
      ],
      "text/plain": [
       "   datetime                  serverip clientip clientport clientlag \n",
       "1  2015-01-08T16:46:15+00:00 serverip OVTSW    23867      -21.869499\n",
       "2  2015-01-14T15:37:47+00:00 serverip GKHTB    88927       38.505041\n",
       "3  2015-01-30T22:20:35+00:00 serverip UUNXV    69359       79.445450\n",
       "4  2015-02-01T01:48:01+00:00 serverip ZLDSO    87973      -53.627307\n",
       "5  2015-02-25T11:40:34+00:00 serverip ANMFV    80445        3.140436\n",
       "6  2015-03-02T06:07:03+00:00 serverip RGIUD    21236      -11.084194\n",
       "7  2015-03-20T16:59:54+00:00 serverip TYHPN    50135       67.493198\n",
       "8  2015-04-17T11:07:40+00:00 serverip KSGWP    63079       28.727730\n",
       "9  2015-04-17T21:19:39+00:00 serverip LMTWY    11727       64.792303\n",
       "10 2015-05-01T18:36:57+00:00 serverip UCABS    58854      -29.166105\n",
       "11 2015-05-27T17:42:37+00:00 serverip FHMVM    78641       66.615588\n",
       "12 2015-06-13T05:24:35+00:00 serverip SIYPM    13030      -49.293857\n",
       "13 2015-07-13T13:37:30+00:00 serverip ACJRQ    21654      -80.902722\n",
       "14 2015-08-20T10:03:18+00:00 serverip SLSLO    96437      -80.231220\n",
       "15 2015-08-25T00:49:28+00:00 serverip UQFII    50582      -69.999717\n",
       "16 2015-09-03T04:08:40+00:00 serverip WRLRQ    35256       67.389531\n",
       "17 2015-09-08T04:30:58+00:00 serverip ZJVAC    61741       23.524456\n",
       "18 2015-09-14T15:46:00+00:00 serverip SRYZJ    19220       39.144782\n",
       "19 2015-09-17T08:15:57+00:00 serverip UJBUU    12289       -0.739334\n",
       "20 2015-09-24T10:10:26+00:00 serverip RLVKE    87716       86.393539\n",
       "   clientlon   sumrtt countrtt avgrtt      clientsub tempcount dataday  ninsub\n",
       "1   175.126212 414    32065      77.451691 A         1         20150108  1    \n",
       "2    80.113544  43    28382     660.046512 A         1         20150114  2    \n",
       "3    -8.021539 596    81681     137.048658 A         1         20150130  3    \n",
       "4    55.957162 763    94393     123.712975 A         1         20150201  4    \n",
       "5  -146.821644 984    36793      37.391260 A         1         20150225  5    \n",
       "6  -123.120849 990    61314      61.933333 A         1         20150302  6    \n",
       "7   146.921460 540    44812      82.985185 A         1         20150320  7    \n",
       "8    55.264260 674    97033     143.965875 A         1         20150417  8    \n",
       "9    74.741397 330    92090     279.060606 A         1         20150417  9    \n",
       "10  -85.919651 723    72752     100.625173 A         1         20150501 10    \n",
       "11   51.882967 307    20120      65.537459 A         1         20150527 11    \n",
       "12  -57.220186 472     1671       3.540254 A         1         20150613 12    \n",
       "13    2.785586 508    76285     150.167323 A         1         20150713 13    \n",
       "14  -57.656059 490    93238     190.281633 A         1         20150820 14    \n",
       "15  113.363070 555    95997     172.967568 A         1         20150825 15    \n",
       "16   48.030850 427    41155      96.381733 A         1         20150903 16    \n",
       "17   86.851504 372    78696     211.548387 A         1         20150908 17    \n",
       "18   77.459994 257     7112      27.673152 A         1         20150914 18    \n",
       "19 -149.459582  19    95673    5035.421053 A         1         20150917 19    \n",
       "20  162.411649 501    99975     199.550898 A         1         20150924 20    \n",
       "   avginsub  sigmainsub outlier\n",
       "1   77.45169    0.0000  0      \n",
       "2  368.74910  291.2974  0      \n",
       "3  291.51562  261.7240  0      \n",
       "4  249.56496  238.0214  0      \n",
       "5  207.13022  229.1859  0      \n",
       "6  182.93074  216.1016  0      \n",
       "7  168.65280  203.1050  0      \n",
       "8  165.56694  190.1627  0      \n",
       "9  178.17734  182.8005  0      \n",
       "10 170.42213  174.9735  0      \n",
       "11 160.88716  169.5336  0      \n",
       "12 147.77492  168.0409  0      \n",
       "13 147.95895  161.4497  0      \n",
       "14 150.98200  155.9582  0      \n",
       "15 152.44770  150.7697  0      \n",
       "16 148.94358  146.6116  0      \n",
       "17 152.62621  142.9949  0      \n",
       "18 145.68438  141.8830  0      \n",
       "19 403.03894 1100.5616  1      \n",
       "20 392.86454 1073.6112  0      "
      ]
     },
     "metadata": {},
     "output_type": "display_data"
    }
   ],
   "source": [
    "df<-ddply(df,c(\"clientsub\"),\n",
    "      transform,\n",
    "      ninsub = cumsum(tempcount))\n",
    "df<-ddply(df,c(\"clientsub\"),\n",
    "          transform,\n",
    "          avginsub = cumavg(avgrtt))\n",
    "df<-ddply(df,c(\"clientsub\"),\n",
    "          transform,\n",
    "          sigmainsub = cumsigma(avgrtt))\n",
    "df<-ddply(df,c(\"clientsub\"),\n",
    "          transform,\n",
    "          outlier = outliertest(avgrtt))\n",
    "head(df[with(df, order(clientsub,datetime)), ],20)"
   ]
  },
  {
   "cell_type": "code",
   "execution_count": 9,
   "metadata": {
    "collapsed": false,
    "deletable": true,
    "editable": true
   },
   "outputs": [],
   "source": [
    "calcnfreq <- function( x, interval=365){\n",
    "    #count the number of events in the last year\n",
    "    nfreq <- 1\n",
    "    nfreq[1] <- 0\n",
    "    npts <- length(x)\n",
    "    for (k in c(2:npts)){\n",
    "        nfreq[k] <- (nfreq[k-1] + 1/as.numeric(difftime(x[k],x[k-1],units='secs')))/2\n",
    "    }\n",
    "    return(nfreq*108000)\n",
    "    invisible()\n",
    "}"
   ]
  },
  {
   "cell_type": "code",
   "execution_count": 14,
   "metadata": {
    "collapsed": false,
    "deletable": true,
    "editable": true,
    "scrolled": true
   },
   "outputs": [
    {
     "data": {
      "text/html": [
       "<table>\n",
       "<thead><tr><th></th><th scope=col>datetime</th><th scope=col>serverip</th><th scope=col>clientip</th><th scope=col>clientport</th><th scope=col>clientlag</th><th scope=col>clientlon</th><th scope=col>sumrtt</th><th scope=col>countrtt</th><th scope=col>avgrtt</th><th scope=col>clientsub</th><th scope=col>tempcount</th><th scope=col>dataday</th><th scope=col>ninsub</th><th scope=col>avginsub</th><th scope=col>sigmainsub</th><th scope=col>outlier</th><th scope=col>datafreq</th><th scope=col>asdate</th></tr></thead>\n",
       "<tbody>\n",
       "\t<tr><th scope=row>1</th><td>2015-01-08T16:46:15+00:00</td><td>serverip                 </td><td>OVTSW                    </td><td>23867                    </td><td>-21.869499               </td><td> 175.126212              </td><td>414                      </td><td>32065                    </td><td>  77.451691              </td><td>A                        </td><td>1                        </td><td>20150108                 </td><td> 1                       </td><td> 77.45169                </td><td>   0.0000                </td><td>0                        </td><td>0.00000000               </td><td>2015-01-08 16:46:15      </td></tr>\n",
       "\t<tr><th scope=row>2</th><td>2015-01-14T15:37:47+00:00</td><td>serverip                 </td><td>GKHTB                    </td><td>88927                    </td><td> 38.505041               </td><td>  80.113544              </td><td> 43                      </td><td>28382                    </td><td> 660.046512              </td><td>A                        </td><td>1                        </td><td>20150114                 </td><td> 2                       </td><td>368.74910                </td><td> 291.2974                </td><td>0                        </td><td>0.10499872               </td><td>2015-01-14 15:37:47      </td></tr>\n",
       "\t<tr><th scope=row>3</th><td>2015-01-30T22:20:35+00:00</td><td>serverip                 </td><td>UUNXV                    </td><td>69359                    </td><td> 79.445450               </td><td>  -8.021539              </td><td>596                      </td><td>81681                    </td><td> 137.048658              </td><td>A                        </td><td>1                        </td><td>20150130                 </td><td> 3                       </td><td>291.51562                </td><td> 261.7240                </td><td>0                        </td><td>0.09089068               </td><td>2015-01-30 22:20:35      </td></tr>\n",
       "\t<tr><th scope=row>4</th><td>2015-02-01T01:48:01+00:00</td><td>serverip                 </td><td>ZLDSO                    </td><td>87973                    </td><td>-53.627307               </td><td>  55.957162              </td><td>763                      </td><td>94393                    </td><td> 123.712975              </td><td>A                        </td><td>1                        </td><td>20150201                 </td><td> 4                       </td><td>249.56496                </td><td> 238.0214                </td><td>0                        </td><td>0.59174969               </td><td>2015-02-01 01:48:01      </td></tr>\n",
       "\t<tr><th scope=row>5</th><td>2015-02-25T11:40:34+00:00</td><td>serverip                 </td><td>ANMFV                    </td><td>80445                    </td><td>  3.140436               </td><td>-146.821644              </td><td>984                      </td><td>36793                    </td><td>  37.391260              </td><td>A                        </td><td>1                        </td><td>20150225                 </td><td> 5                       </td><td>207.13022                </td><td> 229.1859                </td><td>0                        </td><td>0.32147754               </td><td>2015-02-25 11:40:34      </td></tr>\n",
       "\t<tr><th scope=row>6</th><td>2015-03-02T06:07:03+00:00</td><td>serverip                 </td><td>RGIUD                    </td><td>21236                    </td><td>-11.084194               </td><td>-123.120849              </td><td>990                      </td><td>61314                    </td><td>  61.933333              </td><td>A                        </td><td>1                        </td><td>20150302                 </td><td> 6                       </td><td>182.93074                </td><td> 216.1016                </td><td>0                        </td><td>0.29181023               </td><td>2015-03-02 06:07:03      </td></tr>\n",
       "\t<tr><th scope=row>7</th><td>2015-03-20T16:59:54+00:00</td><td>serverip                 </td><td>TYHPN                    </td><td>50135                    </td><td> 67.493198               </td><td> 146.921460              </td><td>540                      </td><td>44812                    </td><td>  82.985185              </td><td>A                        </td><td>1                        </td><td>20150320                 </td><td> 7                       </td><td>168.65280                </td><td> 203.1050                </td><td>0                        </td><td>0.17985092               </td><td>2015-03-20 16:59:54      </td></tr>\n",
       "\t<tr><th scope=row>8</th><td>2015-04-17T11:07:40+00:00</td><td>serverip                 </td><td>KSGWP                    </td><td>63079                    </td><td> 28.727730               </td><td>  55.264260              </td><td>674                      </td><td>97033                    </td><td> 143.965875              </td><td>A                        </td><td>1                        </td><td>20150417                 </td><td> 8                       </td><td>165.56694                </td><td> 190.1627                </td><td>0                        </td><td>0.11244361               </td><td>2015-04-17 11:07:40      </td></tr>\n",
       "\t<tr><th scope=row>9</th><td>2015-04-17T21:19:39+00:00</td><td>serverip                 </td><td>LMTWY                    </td><td>11727                    </td><td> 64.792303               </td><td>  74.741397              </td><td>330                      </td><td>92090                    </td><td> 279.060606              </td><td>A                        </td><td>1                        </td><td>20150417                 </td><td> 9                       </td><td>178.17734                </td><td> 182.8005                </td><td>0                        </td><td>1.52685009               </td><td>2015-04-17 21:19:39      </td></tr>\n",
       "\t<tr><th scope=row>10</th><td>2015-05-01T18:36:57+00:00</td><td>serverip                 </td><td>UCABS                    </td><td>58854                    </td><td>-29.166105               </td><td> -85.919651              </td><td>723                      </td><td>72752                    </td><td> 100.625173              </td><td>A                        </td><td>1                        </td><td>20150501                 </td><td>10                       </td><td>170.42213                </td><td> 174.9735                </td><td>0                        </td><td>0.80843112               </td><td>2015-05-01 18:36:57      </td></tr>\n",
       "\t<tr><th scope=row>11</th><td>2015-05-27T17:42:37+00:00</td><td>serverip                 </td><td>FHMVM                    </td><td>78641                    </td><td> 66.615588               </td><td>  51.882967              </td><td>307                      </td><td>20120                    </td><td>  65.537459              </td><td>A                        </td><td>1                        </td><td>20150527                 </td><td>11                       </td><td>160.88716                </td><td> 169.5336                </td><td>0                        </td><td>0.42828896               </td><td>2015-05-27 17:42:37      </td></tr>\n",
       "\t<tr><th scope=row>12</th><td>2015-06-13T05:24:35+00:00</td><td>serverip                 </td><td>SIYPM                    </td><td>13030                    </td><td>-49.293857               </td><td> -57.220186              </td><td>472                      </td><td> 1671                    </td><td>   3.540254              </td><td>A                        </td><td>1                        </td><td>20150613                 </td><td>12                       </td><td>147.77492                </td><td> 168.0409                </td><td>0                        </td><td>0.25205204               </td><td>2015-06-13 05:24:35      </td></tr>\n",
       "\t<tr><th scope=row>13</th><td>2015-07-13T13:37:30+00:00</td><td>serverip                 </td><td>ACJRQ                    </td><td>21654                    </td><td>-80.902722               </td><td>   2.785586              </td><td>508                      </td><td>76285                    </td><td> 150.167323              </td><td>A                        </td><td>1                        </td><td>20150713                 </td><td>13                       </td><td>147.95895                </td><td> 161.4497                </td><td>0                        </td><td>0.14662432               </td><td>2015-07-13 13:37:30      </td></tr>\n",
       "\t<tr><th scope=row>14</th><td>2015-08-20T10:03:18+00:00</td><td>serverip                 </td><td>SLSLO                    </td><td>96437                    </td><td>-80.231220               </td><td> -57.656059              </td><td>490                      </td><td>93238                    </td><td> 190.281633              </td><td>A                        </td><td>1                        </td><td>20150820                 </td><td>14                       </td><td>150.98200                </td><td> 155.9582                </td><td>0                        </td><td>0.08982417               </td><td>2015-08-20 10:03:18      </td></tr>\n",
       "\t<tr><th scope=row>15</th><td>2015-08-25T00:49:28+00:00</td><td>serverip                 </td><td>UQFII                    </td><td>50582                    </td><td>-69.999717               </td><td> 113.363070              </td><td>555                      </td><td>95997                    </td><td> 172.967568              </td><td>A                        </td><td>1                        </td><td>20150825                 </td><td>15                       </td><td>152.44770                </td><td> 150.7697                </td><td>0                        </td><td>0.18032849               </td><td>2015-08-25 00:49:28      </td></tr>\n",
       "\t<tr><th scope=row>16</th><td>2015-09-03T04:08:40+00:00</td><td>serverip                 </td><td>WRLRQ                    </td><td>35256                    </td><td> 67.389531               </td><td>  48.030850              </td><td>427                      </td><td>41155                    </td><td>  96.381733              </td><td>A                        </td><td>1                        </td><td>20150903                 </td><td>16                       </td><td>148.94358                </td><td> 146.6116                </td><td>0                        </td><td>0.15855746               </td><td>2015-09-03 04:08:40      </td></tr>\n",
       "\t<tr><th scope=row>17</th><td>2015-09-08T04:30:58+00:00</td><td>serverip                 </td><td>ZJVAC                    </td><td>61741                    </td><td> 23.524456               </td><td>  86.851504              </td><td>372                      </td><td>78696                    </td><td> 211.548387              </td><td>A                        </td><td>1                        </td><td>20150908                 </td><td>17                       </td><td>152.62621                </td><td> 142.9949                </td><td>0                        </td><td>0.20389277               </td><td>2015-09-08 04:30:58      </td></tr>\n",
       "\t<tr><th scope=row>18</th><td>2015-09-14T15:46:00+00:00</td><td>serverip                 </td><td>SRYZJ                    </td><td>19220                    </td><td> 39.144782               </td><td>  77.459994              </td><td>257                      </td><td> 7112                    </td><td>  27.673152              </td><td>A                        </td><td>1                        </td><td>20150914                 </td><td>18                       </td><td>145.68438                </td><td> 141.8830                </td><td>0                        </td><td>0.19856440               </td><td>2015-09-14 15:46:00      </td></tr>\n",
       "\t<tr><th scope=row>19</th><td>2015-09-17T08:15:57+00:00</td><td>serverip                 </td><td>UJBUU                    </td><td>12289                    </td><td> -0.739334               </td><td>-149.459582              </td><td> 19                      </td><td>95673                    </td><td>5035.421053              </td><td>A                        </td><td>1                        </td><td>20150917                 </td><td>19                       </td><td>403.03894                </td><td>1100.5616                </td><td>1                        </td><td>0.33184334               </td><td>2015-09-17 08:15:57      </td></tr>\n",
       "\t<tr><th scope=row>20</th><td>2015-09-24T10:10:26+00:00</td><td>serverip                 </td><td>RLVKE                    </td><td>87716                    </td><td> 86.393539               </td><td> 162.411649              </td><td>501                      </td><td>99975                    </td><td> 199.550898              </td><td>A                        </td><td>1                        </td><td>20150924                 </td><td>20                       </td><td>392.86454                </td><td>1073.6112                </td><td>0                        </td><td>0.25420471               </td><td>2015-09-24 10:10:26      </td></tr>\n",
       "</tbody>\n",
       "</table>\n"
      ],
      "text/latex": [
       "\\begin{tabular}{r|llllllllllllllllll}\n",
       "  & datetime & serverip & clientip & clientport & clientlag & clientlon & sumrtt & countrtt & avgrtt & clientsub & tempcount & dataday & ninsub & avginsub & sigmainsub & outlier & datafreq & asdate\\\\\n",
       "\\hline\n",
       "\t1 & 2015-01-08T16:46:15+00:00 & serverip                  & OVTSW                     & 23867                     & -21.869499                &  175.126212               & 414                       & 32065                     &   77.451691               & A                         & 1                         & 20150108                  &  1                        &  77.45169                 &    0.0000                 & 0                         & 0.00000000                & 2015-01-08 16:46:15      \\\\\n",
       "\t2 & 2015-01-14T15:37:47+00:00 & serverip                  & GKHTB                     & 88927                     &  38.505041                &   80.113544               &  43                       & 28382                     &  660.046512               & A                         & 1                         & 20150114                  &  2                        & 368.74910                 &  291.2974                 & 0                         & 0.10499872                & 2015-01-14 15:37:47      \\\\\n",
       "\t3 & 2015-01-30T22:20:35+00:00 & serverip                  & UUNXV                     & 69359                     &  79.445450                &   -8.021539               & 596                       & 81681                     &  137.048658               & A                         & 1                         & 20150130                  &  3                        & 291.51562                 &  261.7240                 & 0                         & 0.09089068                & 2015-01-30 22:20:35      \\\\\n",
       "\t4 & 2015-02-01T01:48:01+00:00 & serverip                  & ZLDSO                     & 87973                     & -53.627307                &   55.957162               & 763                       & 94393                     &  123.712975               & A                         & 1                         & 20150201                  &  4                        & 249.56496                 &  238.0214                 & 0                         & 0.59174969                & 2015-02-01 01:48:01      \\\\\n",
       "\t5 & 2015-02-25T11:40:34+00:00 & serverip                  & ANMFV                     & 80445                     &   3.140436                & -146.821644               & 984                       & 36793                     &   37.391260               & A                         & 1                         & 20150225                  &  5                        & 207.13022                 &  229.1859                 & 0                         & 0.32147754                & 2015-02-25 11:40:34      \\\\\n",
       "\t6 & 2015-03-02T06:07:03+00:00 & serverip                  & RGIUD                     & 21236                     & -11.084194                & -123.120849               & 990                       & 61314                     &   61.933333               & A                         & 1                         & 20150302                  &  6                        & 182.93074                 &  216.1016                 & 0                         & 0.29181023                & 2015-03-02 06:07:03      \\\\\n",
       "\t7 & 2015-03-20T16:59:54+00:00 & serverip                  & TYHPN                     & 50135                     &  67.493198                &  146.921460               & 540                       & 44812                     &   82.985185               & A                         & 1                         & 20150320                  &  7                        & 168.65280                 &  203.1050                 & 0                         & 0.17985092                & 2015-03-20 16:59:54      \\\\\n",
       "\t8 & 2015-04-17T11:07:40+00:00 & serverip                  & KSGWP                     & 63079                     &  28.727730                &   55.264260               & 674                       & 97033                     &  143.965875               & A                         & 1                         & 20150417                  &  8                        & 165.56694                 &  190.1627                 & 0                         & 0.11244361                & 2015-04-17 11:07:40      \\\\\n",
       "\t9 & 2015-04-17T21:19:39+00:00 & serverip                  & LMTWY                     & 11727                     &  64.792303                &   74.741397               & 330                       & 92090                     &  279.060606               & A                         & 1                         & 20150417                  &  9                        & 178.17734                 &  182.8005                 & 0                         & 1.52685009                & 2015-04-17 21:19:39      \\\\\n",
       "\t10 & 2015-05-01T18:36:57+00:00 & serverip                  & UCABS                     & 58854                     & -29.166105                &  -85.919651               & 723                       & 72752                     &  100.625173               & A                         & 1                         & 20150501                  & 10                        & 170.42213                 &  174.9735                 & 0                         & 0.80843112                & 2015-05-01 18:36:57      \\\\\n",
       "\t11 & 2015-05-27T17:42:37+00:00 & serverip                  & FHMVM                     & 78641                     &  66.615588                &   51.882967               & 307                       & 20120                     &   65.537459               & A                         & 1                         & 20150527                  & 11                        & 160.88716                 &  169.5336                 & 0                         & 0.42828896                & 2015-05-27 17:42:37      \\\\\n",
       "\t12 & 2015-06-13T05:24:35+00:00 & serverip                  & SIYPM                     & 13030                     & -49.293857                &  -57.220186               & 472                       &  1671                     &    3.540254               & A                         & 1                         & 20150613                  & 12                        & 147.77492                 &  168.0409                 & 0                         & 0.25205204                & 2015-06-13 05:24:35      \\\\\n",
       "\t13 & 2015-07-13T13:37:30+00:00 & serverip                  & ACJRQ                     & 21654                     & -80.902722                &    2.785586               & 508                       & 76285                     &  150.167323               & A                         & 1                         & 20150713                  & 13                        & 147.95895                 &  161.4497                 & 0                         & 0.14662432                & 2015-07-13 13:37:30      \\\\\n",
       "\t14 & 2015-08-20T10:03:18+00:00 & serverip                  & SLSLO                     & 96437                     & -80.231220                &  -57.656059               & 490                       & 93238                     &  190.281633               & A                         & 1                         & 20150820                  & 14                        & 150.98200                 &  155.9582                 & 0                         & 0.08982417                & 2015-08-20 10:03:18      \\\\\n",
       "\t15 & 2015-08-25T00:49:28+00:00 & serverip                  & UQFII                     & 50582                     & -69.999717                &  113.363070               & 555                       & 95997                     &  172.967568               & A                         & 1                         & 20150825                  & 15                        & 152.44770                 &  150.7697                 & 0                         & 0.18032849                & 2015-08-25 00:49:28      \\\\\n",
       "\t16 & 2015-09-03T04:08:40+00:00 & serverip                  & WRLRQ                     & 35256                     &  67.389531                &   48.030850               & 427                       & 41155                     &   96.381733               & A                         & 1                         & 20150903                  & 16                        & 148.94358                 &  146.6116                 & 0                         & 0.15855746                & 2015-09-03 04:08:40      \\\\\n",
       "\t17 & 2015-09-08T04:30:58+00:00 & serverip                  & ZJVAC                     & 61741                     &  23.524456                &   86.851504               & 372                       & 78696                     &  211.548387               & A                         & 1                         & 20150908                  & 17                        & 152.62621                 &  142.9949                 & 0                         & 0.20389277                & 2015-09-08 04:30:58      \\\\\n",
       "\t18 & 2015-09-14T15:46:00+00:00 & serverip                  & SRYZJ                     & 19220                     &  39.144782                &   77.459994               & 257                       &  7112                     &   27.673152               & A                         & 1                         & 20150914                  & 18                        & 145.68438                 &  141.8830                 & 0                         & 0.19856440                & 2015-09-14 15:46:00      \\\\\n",
       "\t19 & 2015-09-17T08:15:57+00:00 & serverip                  & UJBUU                     & 12289                     &  -0.739334                & -149.459582               &  19                       & 95673                     & 5035.421053               & A                         & 1                         & 20150917                  & 19                        & 403.03894                 & 1100.5616                 & 1                         & 0.33184334                & 2015-09-17 08:15:57      \\\\\n",
       "\t20 & 2015-09-24T10:10:26+00:00 & serverip                  & RLVKE                     & 87716                     &  86.393539                &  162.411649               & 501                       & 99975                     &  199.550898               & A                         & 1                         & 20150924                  & 20                        & 392.86454                 & 1073.6112                 & 0                         & 0.25420471                & 2015-09-24 10:10:26      \\\\\n",
       "\\end{tabular}\n"
      ],
      "text/plain": [
       "   datetime                  serverip clientip clientport clientlag \n",
       "1  2015-01-08T16:46:15+00:00 serverip OVTSW    23867      -21.869499\n",
       "2  2015-01-14T15:37:47+00:00 serverip GKHTB    88927       38.505041\n",
       "3  2015-01-30T22:20:35+00:00 serverip UUNXV    69359       79.445450\n",
       "4  2015-02-01T01:48:01+00:00 serverip ZLDSO    87973      -53.627307\n",
       "5  2015-02-25T11:40:34+00:00 serverip ANMFV    80445        3.140436\n",
       "6  2015-03-02T06:07:03+00:00 serverip RGIUD    21236      -11.084194\n",
       "7  2015-03-20T16:59:54+00:00 serverip TYHPN    50135       67.493198\n",
       "8  2015-04-17T11:07:40+00:00 serverip KSGWP    63079       28.727730\n",
       "9  2015-04-17T21:19:39+00:00 serverip LMTWY    11727       64.792303\n",
       "10 2015-05-01T18:36:57+00:00 serverip UCABS    58854      -29.166105\n",
       "11 2015-05-27T17:42:37+00:00 serverip FHMVM    78641       66.615588\n",
       "12 2015-06-13T05:24:35+00:00 serverip SIYPM    13030      -49.293857\n",
       "13 2015-07-13T13:37:30+00:00 serverip ACJRQ    21654      -80.902722\n",
       "14 2015-08-20T10:03:18+00:00 serverip SLSLO    96437      -80.231220\n",
       "15 2015-08-25T00:49:28+00:00 serverip UQFII    50582      -69.999717\n",
       "16 2015-09-03T04:08:40+00:00 serverip WRLRQ    35256       67.389531\n",
       "17 2015-09-08T04:30:58+00:00 serverip ZJVAC    61741       23.524456\n",
       "18 2015-09-14T15:46:00+00:00 serverip SRYZJ    19220       39.144782\n",
       "19 2015-09-17T08:15:57+00:00 serverip UJBUU    12289       -0.739334\n",
       "20 2015-09-24T10:10:26+00:00 serverip RLVKE    87716       86.393539\n",
       "   clientlon   sumrtt countrtt avgrtt      clientsub tempcount dataday  ninsub\n",
       "1   175.126212 414    32065      77.451691 A         1         20150108  1    \n",
       "2    80.113544  43    28382     660.046512 A         1         20150114  2    \n",
       "3    -8.021539 596    81681     137.048658 A         1         20150130  3    \n",
       "4    55.957162 763    94393     123.712975 A         1         20150201  4    \n",
       "5  -146.821644 984    36793      37.391260 A         1         20150225  5    \n",
       "6  -123.120849 990    61314      61.933333 A         1         20150302  6    \n",
       "7   146.921460 540    44812      82.985185 A         1         20150320  7    \n",
       "8    55.264260 674    97033     143.965875 A         1         20150417  8    \n",
       "9    74.741397 330    92090     279.060606 A         1         20150417  9    \n",
       "10  -85.919651 723    72752     100.625173 A         1         20150501 10    \n",
       "11   51.882967 307    20120      65.537459 A         1         20150527 11    \n",
       "12  -57.220186 472     1671       3.540254 A         1         20150613 12    \n",
       "13    2.785586 508    76285     150.167323 A         1         20150713 13    \n",
       "14  -57.656059 490    93238     190.281633 A         1         20150820 14    \n",
       "15  113.363070 555    95997     172.967568 A         1         20150825 15    \n",
       "16   48.030850 427    41155      96.381733 A         1         20150903 16    \n",
       "17   86.851504 372    78696     211.548387 A         1         20150908 17    \n",
       "18   77.459994 257     7112      27.673152 A         1         20150914 18    \n",
       "19 -149.459582  19    95673    5035.421053 A         1         20150917 19    \n",
       "20  162.411649 501    99975     199.550898 A         1         20150924 20    \n",
       "   avginsub  sigmainsub outlier datafreq   asdate             \n",
       "1   77.45169    0.0000  0       0.00000000 2015-01-08 16:46:15\n",
       "2  368.74910  291.2974  0       0.10499872 2015-01-14 15:37:47\n",
       "3  291.51562  261.7240  0       0.09089068 2015-01-30 22:20:35\n",
       "4  249.56496  238.0214  0       0.59174969 2015-02-01 01:48:01\n",
       "5  207.13022  229.1859  0       0.32147754 2015-02-25 11:40:34\n",
       "6  182.93074  216.1016  0       0.29181023 2015-03-02 06:07:03\n",
       "7  168.65280  203.1050  0       0.17985092 2015-03-20 16:59:54\n",
       "8  165.56694  190.1627  0       0.11244361 2015-04-17 11:07:40\n",
       "9  178.17734  182.8005  0       1.52685009 2015-04-17 21:19:39\n",
       "10 170.42213  174.9735  0       0.80843112 2015-05-01 18:36:57\n",
       "11 160.88716  169.5336  0       0.42828896 2015-05-27 17:42:37\n",
       "12 147.77492  168.0409  0       0.25205204 2015-06-13 05:24:35\n",
       "13 147.95895  161.4497  0       0.14662432 2015-07-13 13:37:30\n",
       "14 150.98200  155.9582  0       0.08982417 2015-08-20 10:03:18\n",
       "15 152.44770  150.7697  0       0.18032849 2015-08-25 00:49:28\n",
       "16 148.94358  146.6116  0       0.15855746 2015-09-03 04:08:40\n",
       "17 152.62621  142.9949  0       0.20389277 2015-09-08 04:30:58\n",
       "18 145.68438  141.8830  0       0.19856440 2015-09-14 15:46:00\n",
       "19 403.03894 1100.5616  1       0.33184334 2015-09-17 08:15:57\n",
       "20 392.86454 1073.6112  0       0.25420471 2015-09-24 10:10:26"
      ]
     },
     "metadata": {},
     "output_type": "display_data"
    }
   ],
   "source": [
    "df$asdate <- as.POSIXct(strptime(df$datetime, \"%Y-%m-%dT%H:%M:%S+00:00\"));\n",
    "df<-ddply(df,c(\"clientsub\"),\n",
    "          transform,\n",
    "          datafreq = calcnfreq(asdate))\n",
    "head(df[with(df, order(clientsub,datetime)), ],20)"
   ]
  },
  {
   "cell_type": "code",
   "execution_count": 15,
   "metadata": {
    "collapsed": false,
    "deletable": true,
    "editable": true
   },
   "outputs": [
    {
     "data": {
      "text/html": [
       "<table>\n",
       "<thead><tr><th></th><th scope=col>datetime</th><th scope=col>serverip</th><th scope=col>clientip</th><th scope=col>clientport</th><th scope=col>clientlag</th><th scope=col>clientlon</th><th scope=col>sumrtt</th><th scope=col>countrtt</th><th scope=col>avgrtt</th><th scope=col>clientsub</th><th scope=col>tempcount</th><th scope=col>dataday</th><th scope=col>ninsub</th><th scope=col>avginsub</th><th scope=col>sigmainsub</th><th scope=col>outlier</th><th scope=col>datafreq</th><th scope=col>asdate</th></tr></thead>\n",
       "<tbody>\n",
       "\t<tr><th scope=row>1</th><td>2015-01-08T16:46:15+00:00</td><td>serverip                 </td><td>OVTSW                    </td><td>23867                    </td><td>-21.8695                 </td><td>175.1262                 </td><td>414                      </td><td>32065                    </td><td>77.45169                 </td><td>A                        </td><td>1                        </td><td>20150108                 </td><td>1                        </td><td>77.45169                 </td><td>0                        </td><td>0                        </td><td>0                        </td><td>2015-01-08 16:46:15      </td></tr>\n",
       "</tbody>\n",
       "</table>\n"
      ],
      "text/latex": [
       "\\begin{tabular}{r|llllllllllllllllll}\n",
       "  & datetime & serverip & clientip & clientport & clientlag & clientlon & sumrtt & countrtt & avgrtt & clientsub & tempcount & dataday & ninsub & avginsub & sigmainsub & outlier & datafreq & asdate\\\\\n",
       "\\hline\n",
       "\t1 & 2015-01-08T16:46:15+00:00 & serverip                  & OVTSW                     & 23867                     & -21.8695                  & 175.1262                  & 414                       & 32065                     & 77.45169                  & A                         & 1                         & 20150108                  & 1                         & 77.45169                  & 0                         & 0                         & 0                         & 2015-01-08 16:46:15      \\\\\n",
       "\\end{tabular}\n"
      ],
      "text/plain": [
       "  datetime                  serverip clientip clientport clientlag clientlon\n",
       "1 2015-01-08T16:46:15+00:00 serverip OVTSW    23867      -21.8695  175.1262 \n",
       "  sumrtt countrtt avgrtt   clientsub tempcount dataday  ninsub avginsub\n",
       "1 414    32065    77.45169 A         1         20150108 1      77.45169\n",
       "  sigmainsub outlier datafreq asdate             \n",
       "1 0          0       0        2015-01-08 16:46:15"
      ]
     },
     "metadata": {},
     "output_type": "display_data"
    }
   ],
   "source": [
    "\n",
    "head(df[with(df, order(clientsub,datetime)), ],1)"
   ]
  },
  {
   "cell_type": "code",
   "execution_count": 16,
   "metadata": {
    "collapsed": false,
    "deletable": true,
    "editable": true
   },
   "outputs": [
    {
     "data": {
      "text/html": [
       "<table>\n",
       "<thead><tr><th></th><th scope=col>datetime</th><th scope=col>serverip</th><th scope=col>clientip</th><th scope=col>clientport</th><th scope=col>clientlag</th><th scope=col>clientlon</th><th scope=col>countrtt</th><th scope=col>sumrtt</th><th scope=col>avgrtt</th><th scope=col>ninsub</th><th scope=col>avginsub</th><th scope=col>sigmainsub</th><th scope=col>datafreq</th><th scope=col>outlier</th><th scope=col>dataday</th><th scope=col>clientsub</th></tr></thead>\n",
       "<tbody>\n",
       "\t<tr><th scope=row>382</th><td>2015-01-01T08:45:17+00:00</td><td>serverip                 </td><td>QHXUW                    </td><td>89910                    </td><td> 12.835674               </td><td>-137.29536               </td><td>62347                    </td><td> 68                      </td><td>916.86765                </td><td>1                        </td><td>916.86765                </td><td>0.000000                 </td><td>0.000000                 </td><td>0                        </td><td>20150101                 </td><td>K                        </td></tr>\n",
       "\t<tr><th scope=row>878</th><td>2015-01-01T19:24:43+00:00</td><td>serverip                 </td><td>TVPSH                    </td><td>93285                    </td><td>-37.492239               </td><td>  10.66631               </td><td>32741                    </td><td>725                      </td><td> 45.16000                </td><td>1                        </td><td> 45.16000                </td><td>0.000000                 </td><td>0.000000                 </td><td>0                        </td><td>20150101                 </td><td>X                        </td></tr>\n",
       "\t<tr><th scope=row>268</th><td>2015-01-02T16:45:09+00:00</td><td>serverip                 </td><td>QAJRE                    </td><td>97349                    </td><td>  9.915895               </td><td>  92.48581               </td><td>94065                    </td><td>965                      </td><td> 97.47668                </td><td>1                        </td><td> 97.47668                </td><td>0.000000                 </td><td>0.000000                 </td><td>0                        </td><td>20150102                 </td><td>H                        </td></tr>\n",
       "\t<tr><th scope=row>85</th><td>2015-01-03T13:24:14+00:00</td><td>serverip                 </td><td>YUKRO                    </td><td>14141                    </td><td>-40.119038               </td><td> -64.56410               </td><td>49539                    </td><td>818                      </td><td> 60.56112                </td><td>1                        </td><td> 60.56112                </td><td>0.000000                 </td><td>0.000000                 </td><td>0                        </td><td>20150103                 </td><td>C                        </td></tr>\n",
       "\t<tr><th scope=row>86</th><td>2015-01-03T21:20:49+00:00</td><td>serverip                 </td><td>GHUQO                    </td><td>57500                    </td><td>-66.721504               </td><td>-107.61302               </td><td>31164                    </td><td>546                      </td><td> 57.07692                </td><td>2                        </td><td> 58.81902                </td><td>1.742101                 </td><td>1.888442                 </td><td>0                        </td><td>20150103                 </td><td>C                        </td></tr>\n",
       "\t<tr><th scope=row>727</th><td>2015-01-03T04:10:50+00:00</td><td>serverip                 </td><td>YVJFN                    </td><td>57164                    </td><td> 44.632682               </td><td> -20.48990               </td><td>34143                    </td><td>296                      </td><td>115.34797                </td><td>1                        </td><td>115.34797                </td><td>0.000000                 </td><td>0.000000                 </td><td>0                        </td><td>20150103                 </td><td>T                        </td></tr>\n",
       "</tbody>\n",
       "</table>\n"
      ],
      "text/latex": [
       "\\begin{tabular}{r|llllllllllllllll}\n",
       "  & datetime & serverip & clientip & clientport & clientlag & clientlon & countrtt & sumrtt & avgrtt & ninsub & avginsub & sigmainsub & datafreq & outlier & dataday & clientsub\\\\\n",
       "\\hline\n",
       "\t382 & 2015-01-01T08:45:17+00:00 & serverip                  & QHXUW                     & 89910                     &  12.835674                & -137.29536                & 62347                     &  68                       & 916.86765                 & 1                         & 916.86765                 & 0.000000                  & 0.000000                  & 0                         & 20150101                  & K                        \\\\\n",
       "\t878 & 2015-01-01T19:24:43+00:00 & serverip                  & TVPSH                     & 93285                     & -37.492239                &   10.66631                & 32741                     & 725                       &  45.16000                 & 1                         &  45.16000                 & 0.000000                  & 0.000000                  & 0                         & 20150101                  & X                        \\\\\n",
       "\t268 & 2015-01-02T16:45:09+00:00 & serverip                  & QAJRE                     & 97349                     &   9.915895                &   92.48581                & 94065                     & 965                       &  97.47668                 & 1                         &  97.47668                 & 0.000000                  & 0.000000                  & 0                         & 20150102                  & H                        \\\\\n",
       "\t85 & 2015-01-03T13:24:14+00:00 & serverip                  & YUKRO                     & 14141                     & -40.119038                &  -64.56410                & 49539                     & 818                       &  60.56112                 & 1                         &  60.56112                 & 0.000000                  & 0.000000                  & 0                         & 20150103                  & C                        \\\\\n",
       "\t86 & 2015-01-03T21:20:49+00:00 & serverip                  & GHUQO                     & 57500                     & -66.721504                & -107.61302                & 31164                     & 546                       &  57.07692                 & 2                         &  58.81902                 & 1.742101                  & 1.888442                  & 0                         & 20150103                  & C                        \\\\\n",
       "\t727 & 2015-01-03T04:10:50+00:00 & serverip                  & YVJFN                     & 57164                     &  44.632682                &  -20.48990                & 34143                     & 296                       & 115.34797                 & 1                         & 115.34797                 & 0.000000                  & 0.000000                  & 0                         & 20150103                  & T                        \\\\\n",
       "\\end{tabular}\n"
      ],
      "text/plain": [
       "    datetime                  serverip clientip clientport clientlag \n",
       "382 2015-01-01T08:45:17+00:00 serverip QHXUW    89910       12.835674\n",
       "878 2015-01-01T19:24:43+00:00 serverip TVPSH    93285      -37.492239\n",
       "268 2015-01-02T16:45:09+00:00 serverip QAJRE    97349        9.915895\n",
       "85  2015-01-03T13:24:14+00:00 serverip YUKRO    14141      -40.119038\n",
       "86  2015-01-03T21:20:49+00:00 serverip GHUQO    57500      -66.721504\n",
       "727 2015-01-03T04:10:50+00:00 serverip YVJFN    57164       44.632682\n",
       "    clientlon  countrtt sumrtt avgrtt    ninsub avginsub  sigmainsub datafreq\n",
       "382 -137.29536 62347     68    916.86765 1      916.86765 0.000000   0.000000\n",
       "878   10.66631 32741    725     45.16000 1       45.16000 0.000000   0.000000\n",
       "268   92.48581 94065    965     97.47668 1       97.47668 0.000000   0.000000\n",
       "85   -64.56410 49539    818     60.56112 1       60.56112 0.000000   0.000000\n",
       "86  -107.61302 31164    546     57.07692 2       58.81902 1.742101   1.888442\n",
       "727  -20.48990 34143    296    115.34797 1      115.34797 0.000000   0.000000\n",
       "    outlier dataday  clientsub\n",
       "382 0       20150101 K        \n",
       "878 0       20150101 X        \n",
       "268 0       20150102 H        \n",
       "85  0       20150103 C        \n",
       "86  0       20150103 C        \n",
       "727 0       20150103 T        "
      ]
     },
     "metadata": {},
     "output_type": "display_data"
    }
   ],
   "source": [
    "dfout <- df[,c(1,2,3,4,5,6,8,7,9,13,14,15,17,16,12,10)]\n",
    "dfout<-dfout[with(dfout, order(dataday)), ]\n",
    "head(dfout)"
   ]
  },
  {
   "cell_type": "code",
   "execution_count": 18,
   "metadata": {
    "collapsed": false,
    "deletable": true,
    "editable": true
   },
   "outputs": [],
   "source": [
    "write.table(dfout,file='tempdatav6.csv',row.names=FALSE, col.names=FALSE,quote=FALSE,sep=\",\")"
   ]
  },
  {
   "cell_type": "code",
   "execution_count": null,
   "metadata": {
    "collapsed": false,
    "deletable": true,
    "editable": true
   },
   "outputs": [],
   "source": []
  },
  {
   "cell_type": "code",
   "execution_count": 10,
   "metadata": {
    "collapsed": false,
    "deletable": true,
    "editable": true
   },
   "outputs": [
    {
     "data": {
      "text/html": [
       "<ol class=list-inline>\n",
       "\t<li>0.7208312</li>\n",
       "\t<li>0.5166656</li>\n",
       "</ol>\n"
      ],
      "text/latex": [
       "\\begin{enumerate*}\n",
       "\\item 0.7208312\n",
       "\\item 0.5166656\n",
       "\\end{enumerate*}\n"
      ],
      "text/markdown": [
       "1. 0.7208312\n",
       "2. 0.5166656\n",
       "\n",
       "\n"
      ],
      "text/plain": [
       "[1] 0.7208312 0.5166656"
      ]
     },
     "metadata": {},
     "output_type": "display_data"
    }
   ],
   "source": [
    "x<-c(\"2016-06-01T08:57:03+00:00\",\"2016-06-05T09:25:45+00:00\")\n",
    "nfreq<-1\n",
    "nfreq[1]<-0.7208312\n",
    "k<-2\n",
    "nfreq[k] <- (nfreq[k-1] + 1/as.numeric(difftime(x[k],x[k-1],units='secs'))*108000)/2\n",
    "nfreq"
   ]
  },
  {
   "cell_type": "code",
   "execution_count": 12,
   "metadata": {
    "collapsed": false,
    "deletable": true,
    "editable": true
   },
   "outputs": [
    {
     "data": {
      "text/html": [
       "252.926129666594"
      ],
      "text/latex": [
       "252.926129666594"
      ],
      "text/markdown": [
       "252.926129666594"
      ],
      "text/plain": [
       "[1] 252.9261"
      ]
     },
     "metadata": {},
     "output_type": "display_data"
    }
   ],
   "source": [
    "nvar<-c(255.08974,0.0)\n",
    "nmean<-c(180.27486,175.99467)\n",
    "k<-2\n",
    "x<-c(213.38863,21.908058)\n",
    "sqrt(((nvar[k-1]*nvar[k-1] + nmean[k-1]*nmean[k-1])*(36) + x[k]*x[k] )/37 - nmean[k]*nmean[k]  )\n"
   ]
  },
  {
   "cell_type": "code",
   "execution_count": null,
   "metadata": {
    "collapsed": true,
    "deletable": true,
    "editable": true
   },
   "outputs": [],
   "source": []
  }
 ],
 "metadata": {
  "anaconda-cloud": {},
  "kernelspec": {
   "display_name": "R",
   "language": "R",
   "name": "ir"
  },
  "language_info": {
   "codemirror_mode": "r",
   "file_extension": ".r",
   "mimetype": "text/x-r-source",
   "name": "R",
   "pygments_lexer": "r",
   "version": "3.3.2"
  }
 },
 "nbformat": 4,
 "nbformat_minor": 0
}
